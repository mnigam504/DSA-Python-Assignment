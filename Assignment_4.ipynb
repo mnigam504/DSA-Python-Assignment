{
  "nbformat": 4,
  "nbformat_minor": 0,
  "metadata": {
    "colab": {
      "name": "Assignment 4.ipynb",
      "provenance": []
    },
    "kernelspec": {
      "name": "python3",
      "display_name": "Python 3"
    },
    "language_info": {
      "name": "python"
    }
  },
  "cells": [
    {
      "cell_type": "markdown",
      "metadata": {
        "id": "gvX4IL7Gmlwa"
      },
      "source": [
        "## 1. Array Rotation\n"
      ]
    },
    {
      "cell_type": "code",
      "metadata": {
        "colab": {
          "base_uri": "https://localhost:8080/"
        },
        "id": "86YTAQ1umsKD",
        "outputId": "24607c3b-1437-462c-b76c-5b00bd26b282"
      },
      "source": [
        "# Method 1: We can use brute force approach of moving element to right till k steps\n",
        "# TC = O(n^2)\n",
        "\n",
        "# Method 2: We can reverse the last k element and reverse the n-k elements and then reverse the whole array\n",
        "# TC = O(n) SC=O(1)\n",
        "\n",
        "def swap(A, i, j):   #Function to swap \n",
        " \n",
        "  data = A[i]\n",
        "  A[i] = A[j]\n",
        "  A[j] = data\n",
        "  \n",
        " \n",
        "def reverse(A, low, high):  #Function to reverse \n",
        " \n",
        "  i = low\n",
        "  j = high\n",
        "  while i < j:\n",
        "      swap(A, i, j)\n",
        "      i = i + 1\n",
        "      j = j - 1\n",
        " \n",
        " \n",
        "# Function to right-rotate a list by `k` positions\n",
        "def rightRotate(A, k, n):\n",
        "  if k < 0 or k >= n:\n",
        "    return\n",
        "  reverse(A, n - k, n - 1)  #reverse last k ele\n",
        "  reverse(A, 0, n - k - 1) #reverse first n-k ele\n",
        "  # Reverse the whole list\n",
        "  reverse(A, 0, n - 1)\n",
        "\n",
        "#drive code\n",
        "t=int(input())\n",
        "while t:\n",
        "  n = int(input())\n",
        "  k = int(input())\n",
        "  A = list(map(int,input().strip().split()))[:n]\n",
        "  rightRotate(A,k,n)\n",
        "  print(A)\n",
        "  t -=1\n",
        "\n",
        "\n"
      ],
      "execution_count": 5,
      "outputs": [
        {
          "output_type": "stream",
          "name": "stdout",
          "text": [
            "1\n",
            "5\n",
            "2\n",
            "1 2 3 4 5\n",
            "[4, 5, 1, 2, 3]\n"
          ]
        }
      ]
    },
    {
      "cell_type": "markdown",
      "metadata": {
        "id": "BpK_i1I8tlpq"
      },
      "source": [
        "# 2. Minimum Difference"
      ]
    },
    {
      "cell_type": "code",
      "metadata": {
        "colab": {
          "base_uri": "https://localhost:8080/"
        },
        "id": "7ndmnuSssZ9L",
        "outputId": "ba0813ea-ecdc-4258-b5fb-2fe07caa1071"
      },
      "source": [
        "# Method -1 : We can use brute force apporach, it will take O(n^3) time\n",
        "\n",
        "# Method -2:  We can sort the array and use two-pointer approach\n",
        "# TC = O(nlogn + n^2)\n",
        "\n",
        "import sys\n",
        "def minDiff(arr, x) :\n",
        "\n",
        "\tarr.sort(); #sorting the array\n",
        "\tclosestSum = sys.maxsize; #storing the closest sum\n",
        "\n",
        "\tfor i in range(len(arr)-2) :    #fixing the samllest value\n",
        "\n",
        "\t\tptr1 = i + 1; ptr2 = len(arr) - 1; #initailizing both pointer\n",
        "\n",
        "\t\twhile (ptr1 < ptr2) :\n",
        "\n",
        "\t\t\tsum = arr[i] + arr[ptr1] + arr[ptr2];\n",
        "\n",
        "\t\t\tif (abs(x - sum) < abs(x - closestSum)) :\n",
        "\t\t\t\tclosestSum = sum;\n",
        "\n",
        "\t\t\tif (sum > x) :\n",
        "\t\t\t\tptr2 -= 1;\n",
        "\n",
        "\t\t\telse :\n",
        "\t\t\t\tptr1 += 1;\n",
        "\n",
        "\t# Return the closest sum found\n",
        "\treturn abs(closestSum-x);\n",
        "\n",
        "\n",
        "#drive code\n",
        "t=int(input())\n",
        "while t:\n",
        "  n = int(input())\n",
        "  arr = list(map(int,input().strip().split()))[:n]\n",
        "  x = int(input())\n",
        "  print(minDiff(arr,x))\n",
        "  t -=1\n"
      ],
      "execution_count": 4,
      "outputs": [
        {
          "output_type": "stream",
          "name": "stdout",
          "text": [
            "1\n",
            "5\n",
            "1 2 5 9 12\n",
            "15\n",
            "0\n"
          ]
        }
      ]
    },
    {
      "cell_type": "markdown",
      "metadata": {
        "id": "SSG_SYqBASof"
      },
      "source": [
        "## 3. Maximum Subarray"
      ]
    },
    {
      "cell_type": "code",
      "metadata": {
        "colab": {
          "base_uri": "https://localhost:8080/"
        },
        "id": "oKijdfU5AYWS",
        "outputId": "6011f314-b025-4293-f523-36ee84681eef"
      },
      "source": [
        "# Method 1-  We can use three loops, two for generating subarray and third for there sum\n",
        "# TC=O(n^3)\n",
        "\n",
        "# Method 2- We can use kadane's algo to calculate the sum in O(n) time\n",
        "\n",
        "# Python program to find maximum contiguous subarray\n",
        "\n",
        "# Function to find the maximum contiguous subarray\n",
        "from sys import maxsize\n",
        "def maxSubArraySum(arr,n):\n",
        "\t\n",
        "\tmax_so_far = -maxsize - 1\n",
        "\tmax_ending_here = 0\n",
        "\t\n",
        "\tfor i in range(0, n):\n",
        "\t\tmax_ending_here = max_ending_here + arr[i]\n",
        "\t\tif (max_so_far < max_ending_here):\n",
        "\t\t\tmax_so_far = max_ending_here\n",
        "\n",
        "\t\tif max_ending_here < 0:\n",
        "\t\t\tmax_ending_here = 0\n",
        "\treturn max_so_far\n",
        "\n",
        "# Driver Code\n",
        "t=int(input())\n",
        "while t:\n",
        "  n = int(input())\n",
        "  arr = list(map(int,input().strip().split()))[:n]\n",
        "  print(maxSubArraySum(arr,n))\n",
        "  t -=1\n",
        "\n"
      ],
      "execution_count": 3,
      "outputs": [
        {
          "output_type": "stream",
          "name": "stdout",
          "text": [
            "1\n",
            "8\n",
            "-2 -5 6 -2 -3 1 5 -6\n",
            "7\n"
          ]
        }
      ]
    },
    {
      "cell_type": "code",
      "metadata": {
        "id": "28-pIV-7rRgw"
      },
      "source": [
        ""
      ],
      "execution_count": null,
      "outputs": []
    }
  ]
}