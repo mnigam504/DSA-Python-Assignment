{
 "cells": [
  {
   "cell_type": "markdown",
   "id": "39b4f8e1",
   "metadata": {},
   "source": [
    "1. Write a program that accepts two integers n,k and finds n^{1/k}. The algorithm behind\n",
    "your program should run in time polynomial in log n. Math libraries are not allowed.\n",
    "Input format: The first line of the input consists of a number t ≥ 1 of test cases. Each\n",
    "subsequent line consists of pairs n,k separated by a space. An example is given below.\n",
    "Sample Input:\n",
    "3\n",
    "64 3\n",
    "15 2\n",
    "10 5\n",
    "Sample Output:\n",
    "4\n",
    "3\n",
    "1\n",
    "Constraints: 1 ≤ n ≤ 1016, 1 ≤ k ≤ n."
   ]
  },
  {
   "cell_type": "markdown",
   "id": "c944501b",
   "metadata": {},
   "source": [
    "Help used - https://informatika.stei.itb.ac.id/~rinaldi.munir/Stmik/2017-2018/Makalah/Makalah-IF2211-2018-098.pdf"
   ]
  },
  {
   "cell_type": "code",
   "execution_count": 2,
   "id": "ba7f9684",
   "metadata": {},
   "outputs": [
    {
     "name": "stdout",
     "output_type": "stream",
     "text": [
      "3\n",
      "64\n",
      "3\n",
      "4\n",
      "15\n",
      "2\n",
      "3\n",
      "10\n",
      "5\n",
      "1\n"
     ]
    }
   ],
   "source": [
    "# We can use binary search to find the kth root of n\n",
    "# Time Complexity = O(logn)\n",
    "\n",
    "#calulating floor\n",
    "def floor(n):\n",
    "    return int(n // 1)\n",
    "\n",
    "#Calulating kth root using binary search\n",
    "def kthRoot(n,k):\n",
    "    n = float(n)\n",
    "    k= int(k)\n",
    "    low=1\n",
    "    high=n\n",
    "    e=0.0000001\n",
    "    mid=(low+high)/2\n",
    "    while abs(mid**k-n)>=e:\n",
    "        if mid**k>n:\n",
    "            high=mid\n",
    "        else:\n",
    "            low=mid\n",
    "        mid=(low+high)/2\n",
    "    return mid\n",
    "\n",
    "#Drive Code\n",
    "t = int(input())   #Enter no of test case\n",
    "while t:\n",
    "    n=int(input())\n",
    "    k=int(input())\n",
    "    ans = kthRoot(n,k)\n",
    "    print(floor(ans))\n",
    "    t -=1"
   ]
  },
  {
   "cell_type": "markdown",
   "id": "63e578c9",
   "metadata": {},
   "source": [
    "2.Given an array A[1,2,...,n] of distinct elements, an inversion is a pair (i,j) of indices such\n",
    "that i < j and A[i] > A[j]. Eg: The sequence 3, 8, 0, -4,1 has 7 inversions, namely the pairs\n",
    "(1,3), (1,4), (1,5), (2,3), (2,4), (2,5), (3,4).\n",
    "Write a program to count the number of inversions of a given array. The algorithm\n",
    "behind your input should run in O(n logn) time.\n",
    "Input format: The first line of the input consists of a single integer: n, the number of\n",
    "elements in the array. The second line of the input consists of the elements of the array,\n",
    "separated by a space.\n",
    "Sample Input:\n",
    "5\n",
    "3 8 0 -4 -1\n",
    "Sample Output:\n",
    "7\n",
    "Constraints: n ≤ 105."
   ]
  },
  {
   "cell_type": "code",
   "execution_count": 10,
   "id": "a688ef6e",
   "metadata": {},
   "outputs": [
    {
     "name": "stdout",
     "output_type": "stream",
     "text": [
      "5\n",
      "1 20 6 4 5\n",
      "Number of inversions are 5\n"
     ]
    }
   ],
   "source": [
    "# Method 1-> we can use bruteforce to count the no of inversion\n",
    "# we will be using two for loops, Time Complexity = O(n)\n",
    "\n",
    "# Method 2-> we can use merge sort to further reduce the time complexity.\n",
    "# TC= O(nlogn)\n",
    "# SC= O(n)\n",
    "\n",
    "def mergeSort(arr, n):\n",
    "    temp_arr = [0] * n\n",
    "    return _mergeSort(arr, temp_arr, 0, n - 1)\n",
    "\n",
    "def _mergeSort(arr, temp_arr, left, right):\n",
    "    inv_count = 0\n",
    "\n",
    "\n",
    "    if left < right:\n",
    "        mid = (left + right) // 2\n",
    "        inv_count += _mergeSort(arr, temp_arr,\n",
    "                                left, mid)\n",
    "        inv_count += _mergeSort(arr, temp_arr,\n",
    "                                mid + 1, right)\n",
    "        inv_count += merge(arr, temp_arr, left, mid, right)\n",
    "\n",
    "    return inv_count\n",
    "\n",
    "\n",
    "\n",
    "def merge(arr, temp_arr, left, mid, right):\n",
    "    i = left\n",
    "    j = mid + 1\n",
    "    k = left\n",
    "    inv_count = 0\n",
    "\n",
    "    while i <= mid and j <= right:\n",
    "\n",
    "\n",
    "\n",
    "        if arr[i] <= arr[j]:       #no inversion\n",
    "            temp_arr[k] = arr[i]\n",
    "            k += 1\n",
    "            i += 1\n",
    "        else:                      #inversion and swap\n",
    "            temp_arr[k] = arr[j]\n",
    "            inv_count += (mid - i + 1)\n",
    "            k += 1\n",
    "            j += 1\n",
    "\n",
    "\n",
    "    while i <= mid:          #remaining ele in left\n",
    "        temp_arr[k] = arr[i]\n",
    "        k += 1\n",
    "        i += 1\n",
    "\n",
    "\n",
    "    while j <= right:       #copy remaining ele in right\n",
    "        temp_arr[k] = arr[j]\n",
    "        k += 1\n",
    "        j += 1\n",
    "\n",
    "\n",
    "    for loop_var in range(left, right + 1):  #copy the sorted subarray into array\n",
    "        arr[loop_var] = temp_arr[loop_var]\n",
    "\n",
    "    return inv_count\n",
    "\n",
    "\n",
    "#driver code\n",
    "n = int(input())\n",
    "arr = list(map(int,input().strip().split()))[:n]\n",
    "\n",
    "result = mergeSort(arr, n)\n",
    "print(\"Number of inversions are\", result)\n"
   ]
  },
  {
   "cell_type": "code",
   "execution_count": null,
   "id": "93ef0954",
   "metadata": {},
   "outputs": [],
   "source": []
  }
 ],
 "metadata": {
  "kernelspec": {
   "display_name": "Python 3",
   "language": "python",
   "name": "python3"
  },
  "language_info": {
   "codemirror_mode": {
    "name": "ipython",
    "version": 3
   },
   "file_extension": ".py",
   "mimetype": "text/x-python",
   "name": "python",
   "nbconvert_exporter": "python",
   "pygments_lexer": "ipython3",
   "version": "3.8.8"
  }
 },
 "nbformat": 4,
 "nbformat_minor": 5
}
