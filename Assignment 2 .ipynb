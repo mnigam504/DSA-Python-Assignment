{
 "cells": [
  {
   "cell_type": "markdown",
   "id": "8d92f32d",
   "metadata": {},
   "source": [
    "##### **Assignment Problem 1 :** \n",
    "input : Sorted array of n distinct elements which are integers\n",
    "\n",
    "output : Find any element in an array such that an array element and it's corresponding index is same meaning array[i] = i.\n",
    "\n",
    "Write an optimised code with its time complexity for above problem statement."
   ]
  },
  {
   "cell_type": "code",
   "execution_count": 3,
   "id": "758423b9",
   "metadata": {},
   "outputs": [
    {
     "name": "stdout",
     "output_type": "stream",
     "text": [
      "Number is: 1\n"
     ]
    }
   ],
   "source": [
    "# Method 1-> We can use linear search i.e., we traverse through the array and check if arr[i]==i,\n",
    "# If true then print the element else print not found\n",
    "# T.C.= O(n) \n",
    "\n",
    "# Method 2-> Since the array is sorted we can use Binary Search to further optimised the approch \n",
    "# T.C. = O(logn)\n",
    "\n",
    "#Binary Search\n",
    "def BinarySearch(arr,low,high):\n",
    "    if(low==high):\n",
    "        if(arr[low]==low):\n",
    "            return low;\n",
    "        else:\n",
    "            return -1;\n",
    "    else:\n",
    "        mid=low+(high+low)//2;\n",
    "        if(arr[mid]==mid):\n",
    "            return mid\n",
    "        elif(arr[mid]<mid):\n",
    "            return BinarySearch(arr,mid+1,high)\n",
    "        else:\n",
    "            return BinarySearch(arr,low,mid-1)\n",
    "\n",
    "#Drive Code\n",
    "arr=[-1, 1, 3, 5] #declaring the sorted array\n",
    "n=len(arr) #calculating its size\n",
    "number=BinarySearch(arr,0,n-1)\n",
    "if(number>0):\n",
    "    print('Number is: '+str(number))\n",
    "else:\n",
    "    print('Number not found')"
   ]
  },
  {
   "cell_type": "markdown",
   "id": "6b9cef41",
   "metadata": {},
   "source": [
    "**Assignment Problem 2 :**\n",
    "[\n",
    "Two Sum Problem](https://leetcode.com/problems/two-sum/)"
   ]
  },
  {
   "cell_type": "code",
   "execution_count": null,
   "id": "da8b1efa",
   "metadata": {},
   "outputs": [],
   "source": [
    "# Method 1-> We can use two for loop and for fixed i we can search for (target-arr[i])\n",
    "# Since we will be using two loops T.C. will be O(n^2)\n",
    "\n",
    "# Method 2-> We can make a dictionary for storing the {ele:index} and sort it by key and use two pointer approach to find the answer\n",
    "# T.C.= O(nlogn + n), S.C. = O(n)\n",
    "\n",
    "# Method 3-> use hasmap, by traversing in the array we store the the complement of current value and its index, \n",
    "#            If number exist in dictionary then we can return the req pair\n",
    "# T.C.= O(n), S.C.= O(n)\n",
    "\n",
    "class Solution(object):\n",
    "    def twoSum(self, nums, target):\n",
    "        \"\"\"\n",
    "        :type nums: List[int]\n",
    "        :type target: int\n",
    "        :rtype: List[int]\n",
    "        \"\"\"\n",
    "        Map = dict()   #we create the hashmap\n",
    "        for i in range(len(nums)):    # we iterate the nums array \n",
    "            num=nums[i]              \n",
    "            complement = target-num   # calculate the complement\n",
    "            \n",
    "            if num in Map:            # if current number exist that means its complement exist, we return it\n",
    "                return [Map[num],i]\n",
    "            else:                     # else we add the complement of current no with index\n",
    "                Map[complement]=i\n",
    "        \n",
    "\n"
   ]
  }
 ],
 "metadata": {
  "kernelspec": {
   "display_name": "Python 3",
   "language": "python",
   "name": "python3"
  },
  "language_info": {
   "codemirror_mode": {
    "name": "ipython",
    "version": 3
   },
   "file_extension": ".py",
   "mimetype": "text/x-python",
   "name": "python",
   "nbconvert_exporter": "python",
   "pygments_lexer": "ipython3",
   "version": "3.8.8"
  }
 },
 "nbformat": 4,
 "nbformat_minor": 5
}
